{
 "cells": [
  {
   "cell_type": "code",
   "execution_count": 1,
   "id": "a6a3828c-d7e3-43cf-915f-7218b529ef68",
   "metadata": {},
   "outputs": [],
   "source": [
    "from pyspark.sql import SparkSession\n",
    "from pyspark.sql.functions import sum,count,avg,col,expr,round,date_format,collect_list,size\n",
    "import pandas as pd\n",
    "import matplotlib.pyplot as plt\n",
    "import seaborn as sbn"
   ]
  },
  {
   "cell_type": "code",
   "execution_count": 2,
   "id": "720311bd-f092-4e71-95c6-95972270ae04",
   "metadata": {},
   "outputs": [
    {
     "name": "stderr",
     "output_type": "stream",
     "text": [
      "24/03/18 05:30:37 WARN Utils: Your hostname, Manishas-MacBook-Air.local resolves to a loopback address: 127.0.0.1; using 10.1.10.215 instead (on interface en0)\n",
      "24/03/18 05:30:37 WARN Utils: Set SPARK_LOCAL_IP if you need to bind to another address\n",
      "WARNING: An illegal reflective access operation has occurred\n",
      "WARNING: Illegal reflective access by org.apache.spark.unsafe.Platform (file:/Users/manishakosaraju/sparktest/sparkdf/venv/lib/python3.9/site-packages/pyspark/jars/spark-unsafe_2.12-3.0.1.jar) to constructor java.nio.DirectByteBuffer(long,int)\n",
      "WARNING: Please consider reporting this to the maintainers of org.apache.spark.unsafe.Platform\n",
      "WARNING: Use --illegal-access=warn to enable warnings of further illegal reflective access operations\n",
      "WARNING: All illegal access operations will be denied in a future release\n",
      "24/03/18 05:30:37 WARN NativeCodeLoader: Unable to load native-hadoop library for your platform... using builtin-java classes where applicable\n",
      "Using Spark's default log4j profile: org/apache/spark/log4j-defaults.properties\n",
      "Setting default log level to \"WARN\".\n",
      "To adjust logging level use sc.setLogLevel(newLevel). For SparkR, use setLogLevel(newLevel).\n"
     ]
    }
   ],
   "source": [
    "spark=SparkSession.builder.appName(\"practiceanalytics\").getOrCreate()"
   ]
  },
  {
   "cell_type": "markdown",
   "id": "5fa8f42d-4132-4146-b871-1ac639f01cb2",
   "metadata": {},
   "source": [
    "### Read 2019 data from json files directory"
   ]
  },
  {
   "cell_type": "code",
   "execution_count": 3,
   "id": "80c26aae-dba4-4e0e-a418-02f37b03da3a",
   "metadata": {},
   "outputs": [
    {
     "name": "stderr",
     "output_type": "stream",
     "text": [
      "[Stage 1:====================================>                    (48 + 3) / 75]\r"
     ]
    },
    {
     "name": "stdout",
     "output_type": "stream",
     "text": [
      "+--------------+-----------------------------+-------+------+--------------------------+--------+-----+----------------------------------------+-----+\n",
      "|city          |orderdate                    |orderid|price |product                   |quantity|state|storeaddress                            |month|\n",
      "+--------------+-----------------------------+-------+------+--------------------------+--------+-----+----------------------------------------+-----+\n",
      "| San Francisco|2019-12-08T21:09:00.000-06:00|295778 |3.84  |AA Batteries (4-pack)     |1       |CA   |820 Adams St, San Francisco, CA 94016   |12   |\n",
      "| Los Angeles  |2019-12-02T18:09:00.000-06:00|296047 |2.99  |AAA Batteries (4-pack)    |2       |CA   |433 4th St, Los Angeles, CA 90001       |12   |\n",
      "| Los Angeles  |2019-12-05T15:49:00.000-06:00|296233 |3.84  |AA Batteries (4-pack)     |1       |CA   |444 8th St, Los Angeles, CA 90001       |12   |\n",
      "| San Francisco|2019-12-02T20:21:00.000-06:00|296603 |2.99  |AAA Batteries (4-pack)    |1       |CA   |665 10th St, San Francisco, CA 94016    |12   |\n",
      "| New York City|2019-12-25T11:35:00.000-06:00|296639 |149.99|27in FHD Monitor          |1       |NY   |860 7th St, New York City, NY 10001     |12   |\n",
      "| Seattle      |2019-12-05T21:21:00.000-06:00|296749 |379.99|34in Ultrawide Monitor    |1       |WA   |570 Adams St, Seattle, WA 98101         |12   |\n",
      "| Boston       |2019-12-10T17:31:00.000-06:00|296810 |11.99 |Wired Headphones          |1       |MA   |517 Park St, Boston, MA 02215           |12   |\n",
      "| San Francisco|2019-12-05T08:34:00.000-06:00|297143 |150.0 |Apple Airpods Headphones  |1       |CA   |625 Lincoln St, San Francisco, CA 94016 |12   |\n",
      "| San Francisco|2019-12-31T23:16:00.000-06:00|297288 |3.84  |AA Batteries (4-pack)     |2       |CA   |914 Madison St, San Francisco, CA 94016 |12   |\n",
      "| Los Angeles  |2019-12-07T07:30:00.000-06:00|297311 |99.99 |Bose SoundSport Headphones|1       |CA   |858 Willow St, Los Angeles, CA 90001    |12   |\n",
      "| Boston       |2019-12-19T06:57:00.000-06:00|297531 |700.0 |iPhone                    |1       |MA   |161 Walnut St, Boston, MA 02215         |12   |\n",
      "| Portland     |2019-12-23T19:24:00.000-06:00|297537 |150.0 |Apple Airpods Headphones  |1       |OR   |61 Wilson St, Portland, OR 97035        |12   |\n",
      "| San Francisco|2019-12-01T17:51:00.000-06:00|297999 |11.95 |USB-C Charging Cable      |1       |CA   |990 14th St, San Francisco, CA 94016    |12   |\n",
      "| New York City|2019-12-21T05:58:00.000-06:00|298321 |11.95 |USB-C Charging Cable      |1       |NY   |183 Spruce St, New York City, NY 10001  |12   |\n",
      "| New York City|2019-12-18T18:58:00.000-06:00|298578 |3.84  |AA Batteries (4-pack)     |2       |NY   |348 Hill St, New York City, NY 10001    |12   |\n",
      "| Boston       |2019-12-13T16:21:00.000-06:00|298774 |2.99  |AAA Batteries (4-pack)    |1       |MA   |235 11th St, Boston, MA 02215           |12   |\n",
      "| Los Angeles  |2019-12-15T07:27:00.000-06:00|298853 |300.0 |Flatscreen TV             |1       |CA   |541 Washington St, Los Angeles, CA 90001|12   |\n",
      "| New York City|2019-12-27T08:34:00.000-06:00|298971 |11.95 |USB-C Charging Cable      |1       |NY   |565 Cherry St, New York City, NY 10001  |12   |\n",
      "| Dallas       |2019-12-04T15:52:00.000-06:00|299990 |300.0 |Flatscreen TV             |1       |TX   |785 Church St, Dallas, TX 75001         |12   |\n",
      "| New York City|2019-12-04T16:17:00.000-06:00|300048 |1700.0|Macbook Pro Laptop        |1       |NY   |450 Jackson St, New York City, NY 10001 |12   |\n",
      "+--------------+-----------------------------+-------+------+--------------------------+--------+-----+----------------------------------------+-----+\n",
      "only showing top 20 rows\n",
      "\n"
     ]
    },
    {
     "name": "stderr",
     "output_type": "stream",
     "text": [
      "                                                                                \r"
     ]
    }
   ],
   "source": [
    "inputpath= './data/output1/sales/'\n",
    "partition='year=2019'\n",
    "fullpath=f\"{inputpath}{partition}\"\n",
    "spark_df=spark.read.format(\"json\").option(\"inferschema\",True).load(fullpath)\n",
    "spark_df.show(truncate=False)"
   ]
  },
  {
   "cell_type": "markdown",
   "id": "968c0b51-ddc1-46dc-9b8f-214bbb733e31",
   "metadata": {},
   "source": [
    "### 1.Get the best sales month"
   ]
  },
  {
   "cell_type": "code",
   "execution_count": 4,
   "id": "1beb25d7-f3df-4e57-8b6d-d103fbacf2ce",
   "metadata": {},
   "outputs": [
    {
     "name": "stdout",
     "output_type": "stream",
     "text": [
      "+-----+--------+------+------+\n",
      "|month|quantity| price| sales|\n",
      "+-----+--------+------+------+\n",
      "|   12|       1|  3.84|  3.84|\n",
      "|   12|       2|  2.99|  5.98|\n",
      "|   12|       1|  3.84|  3.84|\n",
      "|   12|       1|  2.99|  2.99|\n",
      "|   12|       1|149.99|149.99|\n",
      "|   12|       1|379.99|379.99|\n",
      "|   12|       1| 11.99| 11.99|\n",
      "|   12|       1| 150.0| 150.0|\n",
      "|   12|       2|  3.84|  7.68|\n",
      "|   12|       1| 99.99| 99.99|\n",
      "|   12|       1| 700.0| 700.0|\n",
      "|   12|       1| 150.0| 150.0|\n",
      "|   12|       1| 11.95| 11.95|\n",
      "|   12|       1| 11.95| 11.95|\n",
      "|   12|       2|  3.84|  7.68|\n",
      "|   12|       1|  2.99|  2.99|\n",
      "|   12|       1| 300.0| 300.0|\n",
      "|   12|       1| 11.95| 11.95|\n",
      "|   12|       1| 300.0| 300.0|\n",
      "|   12|       1|1700.0|1700.0|\n",
      "+-----+--------+------+------+\n",
      "only showing top 20 rows\n",
      "\n"
     ]
    }
   ],
   "source": [
    "spark_df1=spark_df.select(col(\"month\"),col(\"quantity\"),col(\"price\"),expr(\"price * quantity\").alias(\"sales\"))\n",
    "spark_df1.show()"
   ]
  },
  {
   "cell_type": "code",
   "execution_count": 5,
   "id": "33e26480-bf31-4e7f-9631-845910f66454",
   "metadata": {},
   "outputs": [
    {
     "name": "stderr",
     "output_type": "stream",
     "text": [
      "[Stage 4:=====================================================>   (70 + 3) / 75]\r"
     ]
    },
    {
     "name": "stdout",
     "output_type": "stream",
     "text": [
      "+-----+----------+\n",
      "|month|totalsales|\n",
      "+-----+----------+\n",
      "|    1|1812742.87|\n",
      "|    9|2094465.69|\n",
      "|    2|2200078.08|\n",
      "|    8|2241083.37|\n",
      "|    6|2576280.15|\n",
      "|    7|2646461.32|\n",
      "|    3|2804973.35|\n",
      "|    5|3150616.23|\n",
      "|   11|3197875.05|\n",
      "|    4|3389217.98|\n",
      "|   10|3734777.86|\n",
      "|   12| 4608295.7|\n",
      "+-----+----------+\n",
      "\n"
     ]
    },
    {
     "name": "stderr",
     "output_type": "stream",
     "text": [
      "                                                                                \r"
     ]
    }
   ],
   "source": [
    "spark_df2=(spark_df1.groupBy(\"month\")\n",
    "          .agg(round(sum(\"sales\"),2).alias(\"totalsales\"))\n",
    "          .orderBy(\"totalsales\"))\n",
    "spark_df2.show()         "
   ]
  },
  {
   "cell_type": "code",
   "execution_count": 6,
   "id": "c1622ec2-db1f-4ac1-b66b-27ea80c925ed",
   "metadata": {},
   "outputs": [
    {
     "data": {
      "text/html": [
       "<div>\n",
       "<style scoped>\n",
       "    .dataframe tbody tr th:only-of-type {\n",
       "        vertical-align: middle;\n",
       "    }\n",
       "\n",
       "    .dataframe tbody tr th {\n",
       "        vertical-align: top;\n",
       "    }\n",
       "\n",
       "    .dataframe thead th {\n",
       "        text-align: right;\n",
       "    }\n",
       "</style>\n",
       "<table border=\"1\" class=\"dataframe\">\n",
       "  <thead>\n",
       "    <tr style=\"text-align: right;\">\n",
       "      <th></th>\n",
       "      <th>month</th>\n",
       "      <th>totalsales</th>\n",
       "    </tr>\n",
       "  </thead>\n",
       "  <tbody>\n",
       "    <tr>\n",
       "      <th>0</th>\n",
       "      <td>1</td>\n",
       "      <td>1812742.87</td>\n",
       "    </tr>\n",
       "    <tr>\n",
       "      <th>1</th>\n",
       "      <td>2</td>\n",
       "      <td>2200078.08</td>\n",
       "    </tr>\n",
       "    <tr>\n",
       "      <th>2</th>\n",
       "      <td>3</td>\n",
       "      <td>2804973.35</td>\n",
       "    </tr>\n",
       "    <tr>\n",
       "      <th>3</th>\n",
       "      <td>4</td>\n",
       "      <td>3389217.98</td>\n",
       "    </tr>\n",
       "    <tr>\n",
       "      <th>4</th>\n",
       "      <td>5</td>\n",
       "      <td>3150616.23</td>\n",
       "    </tr>\n",
       "    <tr>\n",
       "      <th>5</th>\n",
       "      <td>6</td>\n",
       "      <td>2576280.15</td>\n",
       "    </tr>\n",
       "    <tr>\n",
       "      <th>6</th>\n",
       "      <td>7</td>\n",
       "      <td>2646461.32</td>\n",
       "    </tr>\n",
       "    <tr>\n",
       "      <th>7</th>\n",
       "      <td>8</td>\n",
       "      <td>2241083.37</td>\n",
       "    </tr>\n",
       "    <tr>\n",
       "      <th>8</th>\n",
       "      <td>9</td>\n",
       "      <td>2094465.69</td>\n",
       "    </tr>\n",
       "    <tr>\n",
       "      <th>9</th>\n",
       "      <td>10</td>\n",
       "      <td>3734777.86</td>\n",
       "    </tr>\n",
       "    <tr>\n",
       "      <th>10</th>\n",
       "      <td>11</td>\n",
       "      <td>3197875.05</td>\n",
       "    </tr>\n",
       "    <tr>\n",
       "      <th>11</th>\n",
       "      <td>12</td>\n",
       "      <td>4608295.70</td>\n",
       "    </tr>\n",
       "  </tbody>\n",
       "</table>\n",
       "</div>"
      ],
      "text/plain": [
       "    month  totalsales\n",
       "0       1  1812742.87\n",
       "1       2  2200078.08\n",
       "2       3  2804973.35\n",
       "3       4  3389217.98\n",
       "4       5  3150616.23\n",
       "5       6  2576280.15\n",
       "6       7  2646461.32\n",
       "7       8  2241083.37\n",
       "8       9  2094465.69\n",
       "9      10  3734777.86\n",
       "10     11  3197875.05\n",
       "11     12  4608295.70"
      ]
     },
     "execution_count": 6,
     "metadata": {},
     "output_type": "execute_result"
    }
   ],
   "source": [
    "pd_df=(spark_df2.orderBy(\"month\")).toPandas()\n",
    "pd_df"
   ]
  },
  {
   "cell_type": "code",
   "execution_count": 7,
   "id": "269c264d-1743-4405-8d78-fb66a66f4694",
   "metadata": {},
   "outputs": [
    {
     "data": {
      "text/plain": [
       "Text(0, 0.5, 'Total Sales')"
      ]
     },
     "execution_count": 7,
     "metadata": {},
     "output_type": "execute_result"
    },
    {
     "data": {
      "image/png": "[encoded data removed]",
      "text/plain": [
       "<Figure size 1000x600 with 1 Axes>"
      ]
     },
     "metadata": {},
     "output_type": "display_data"
    }
   ],
   "source": [
    "sbn.set_theme(style='whitegrid')\n",
    "plt.figure(figsize=(10,6))\n",
    "plt.ticklabel_format(useOffset=False, style=\"plain\")\n",
    "sbn.barplot(x=\"month\" , y=\"totalsales\",data=pd_df,hue=\"month\",palette=\"RdBu\").set_title(\"Total sales per month\")\n",
    "plt.ylabel(\"Total Sales\")\n",
    "           "
   ]
  },
  {
   "cell_type": "code",
   "execution_count": 8,
   "id": "68b11eab-0445-4071-a869-b40319fcd6a5",
   "metadata": {},
   "outputs": [],
   "source": [
    "#print(\"Seaborn version : {0}\".format(sbn.__version__))"
   ]
  },
  {
   "cell_type": "markdown",
   "id": "f943883c-76eb-42cf-afe1-bb23228ad14e",
   "metadata": {},
   "source": [
    "### 2.Get the city that sold the most products"
   ]
  },
  {
   "cell_type": "code",
   "execution_count": 9,
   "id": "4fa6743b-6397-46aa-a0f5-a113a41d1ed2",
   "metadata": {},
   "outputs": [
    {
     "name": "stderr",
     "output_type": "stream",
     "text": [
      "[Stage 11:==========================================>             (57 + 3) / 75]\r"
     ]
    },
    {
     "name": "stdout",
     "output_type": "stream",
     "text": [
      "+--------------+-------------+\n",
      "|          city|totalproducts|\n",
      "+--------------+-------------+\n",
      "| San Francisco|        50156|\n",
      "|   Los Angeles|        33246|\n",
      "| New York City|        27887|\n",
      "|        Boston|        22490|\n",
      "|        Dallas|        16705|\n",
      "|       Atlanta|        16584|\n",
      "|       Seattle|        16533|\n",
      "|      Portland|        14035|\n",
      "|        Austin|        11135|\n",
      "+--------------+-------------+\n",
      "\n"
     ]
    },
    {
     "name": "stderr",
     "output_type": "stream",
     "text": [
      "                                                                                \r"
     ]
    }
   ],
   "source": [
    "city_df=spark_df.groupby(\"city\").agg(sum(\"quantity\").alias(\"totalproducts\")).orderBy(\"totalproducts\",ascending=False)\n",
    "city_df.show()"
   ]
  },
  {
   "cell_type": "code",
   "execution_count": 10,
   "id": "1f3c5984-04c6-401e-b5f6-d9285bd574e9",
   "metadata": {},
   "outputs": [
    {
     "data": {
      "text/html": [
       "<div>\n",
       "<style scoped>\n",
       "    .dataframe tbody tr th:only-of-type {\n",
       "        vertical-align: middle;\n",
       "    }\n",
       "\n",
       "    .dataframe tbody tr th {\n",
       "        vertical-align: top;\n",
       "    }\n",
       "\n",
       "    .dataframe thead th {\n",
       "        text-align: right;\n",
       "    }\n",
       "</style>\n",
       "<table border=\"1\" class=\"dataframe\">\n",
       "  <thead>\n",
       "    <tr style=\"text-align: right;\">\n",
       "      <th></th>\n",
       "      <th>city</th>\n",
       "      <th>totalproducts</th>\n",
       "    </tr>\n",
       "  </thead>\n",
       "  <tbody>\n",
       "    <tr>\n",
       "      <th>0</th>\n",
       "      <td>San Francisco</td>\n",
       "      <td>50156</td>\n",
       "    </tr>\n",
       "    <tr>\n",
       "      <th>1</th>\n",
       "      <td>Los Angeles</td>\n",
       "      <td>33246</td>\n",
       "    </tr>\n",
       "    <tr>\n",
       "      <th>2</th>\n",
       "      <td>New York City</td>\n",
       "      <td>27887</td>\n",
       "    </tr>\n",
       "    <tr>\n",
       "      <th>3</th>\n",
       "      <td>Boston</td>\n",
       "      <td>22490</td>\n",
       "    </tr>\n",
       "    <tr>\n",
       "      <th>4</th>\n",
       "      <td>Dallas</td>\n",
       "      <td>16705</td>\n",
       "    </tr>\n",
       "    <tr>\n",
       "      <th>5</th>\n",
       "      <td>Atlanta</td>\n",
       "      <td>16584</td>\n",
       "    </tr>\n",
       "    <tr>\n",
       "      <th>6</th>\n",
       "      <td>Seattle</td>\n",
       "      <td>16533</td>\n",
       "    </tr>\n",
       "    <tr>\n",
       "      <th>7</th>\n",
       "      <td>Portland</td>\n",
       "      <td>14035</td>\n",
       "    </tr>\n",
       "    <tr>\n",
       "      <th>8</th>\n",
       "      <td>Austin</td>\n",
       "      <td>11135</td>\n",
       "    </tr>\n",
       "  </tbody>\n",
       "</table>\n",
       "</div>"
      ],
      "text/plain": [
       "             city  totalproducts\n",
       "0   San Francisco          50156\n",
       "1     Los Angeles          33246\n",
       "2   New York City          27887\n",
       "3          Boston          22490\n",
       "4          Dallas          16705\n",
       "5         Atlanta          16584\n",
       "6         Seattle          16533\n",
       "7        Portland          14035\n",
       "8          Austin          11135"
      ]
     },
     "execution_count": 10,
     "metadata": {},
     "output_type": "execute_result"
    }
   ],
   "source": [
    "city_pd=city_df.toPandas()\n",
    "city_pd"
   ]
  },
  {
   "cell_type": "code",
   "execution_count": 11,
   "id": "d9d228f4-753e-47a7-8114-11fa8091bbbf",
   "metadata": {},
   "outputs": [
    {
     "data": {
      "text/plain": [
       "Text(0, 0.5, 'Total products')"
      ]
     },
     "execution_count": 11,
     "metadata": {},
     "output_type": "execute_result"
    },
    {
     "data": {
      "image/png": "[encoded data removed]",
      "text/plain": [
       "<Figure size 1500x600 with 1 Axes>"
      ]
     },
     "metadata": {},
     "output_type": "display_data"
    }
   ],
   "source": [
    "sbn.set_theme(style='whitegrid')\n",
    "plt.figure(figsize=(15,6))\n",
    "plt.ticklabel_format(useOffset=False, style=\"plain\")\n",
    "sbn.barplot(x=\"city\" , y=\"totalproducts\",data=city_pd,hue=\"city\",palette=\"RdBu\").set_title(\"Total products sold per city\")\n",
    "plt.ylabel(\"Total products\")"
   ]
  },
  {
   "cell_type": "markdown",
   "id": "189ef6cc-ce5a-4f58-80b9-cce00b76720a",
   "metadata": {},
   "source": [
    "### 3.At what time should we display the advertisements to maximize the likelihood of the the customers buying products"
   ]
  },
  {
   "cell_type": "code",
   "execution_count": 12,
   "id": "d1acea39-ed79-42f5-95dc-d5072535488b",
   "metadata": {},
   "outputs": [
    {
     "name": "stderr",
     "output_type": "stream",
     "text": [
      "[Stage 18:===============================================>        (63 + 3) / 75]\r"
     ]
    },
    {
     "name": "stdout",
     "output_type": "stream",
     "text": [
      "+-------+-----+\n",
      "|orderid|count|\n",
      "+-------+-----+\n",
      "| 302708|    2|\n",
      "| 301127|    2|\n",
      "| 317757|    2|\n",
      "| 299953|    2|\n",
      "| 302881|    2|\n",
      "| 303986|    2|\n",
      "| 307749|    2|\n",
      "| 312270|    2|\n",
      "| 269650|    2|\n",
      "| 177719|    2|\n",
      "| 277548|    2|\n",
      "| 268529|    2|\n",
      "| 192643|    2|\n",
      "| 234628|    2|\n",
      "| 290395|    2|\n",
      "| 267325|    2|\n",
      "| 293958|    2|\n",
      "| 160894|    2|\n",
      "| 225350|    2|\n",
      "| 172267|    2|\n",
      "+-------+-----+\n",
      "only showing top 20 rows\n",
      "\n"
     ]
    },
    {
     "name": "stderr",
     "output_type": "stream",
     "text": [
      "                                                                                \r"
     ]
    }
   ],
   "source": [
    "adv_df=spark_df.groupby(\"orderid\").agg(count(\"orderid\").alias(\"count\")).where(col(\"count\")>1)\n",
    "adv_df.show()"
   ]
  },
  {
   "cell_type": "code",
   "execution_count": 13,
   "id": "e92143ae-1fd4-40e9-ba2f-1f1518d364bd",
   "metadata": {},
   "outputs": [
    {
     "name": "stderr",
     "output_type": "stream",
     "text": [
      "[Stage 21:================================================>     (180 + 3) / 200]\r"
     ]
    },
    {
     "name": "stdout",
     "output_type": "stream",
     "text": [
      "+----+-----------+\n",
      "|hour|totalorders|\n",
      "+----+-----------+\n",
      "|  19|      12377|\n",
      "|  12|      12082|\n",
      "|  11|      11882|\n",
      "|  20|      11763|\n",
      "|  18|      11761|\n",
      "|  13|      11682|\n",
      "|  14|      10522|\n",
      "|  21|      10499|\n",
      "|  10|      10492|\n",
      "|  17|      10476|\n",
      "|  16|       9960|\n",
      "|  15|       9761|\n",
      "|  22|       8453|\n",
      "|   9|       8404|\n",
      "|   8|       6036|\n",
      "|  23|       5990|\n",
      "|   7|       3836|\n",
      "|   0|       3748|\n",
      "|   6|       2375|\n",
      "|   1|       2246|\n",
      "+----+-----------+\n",
      "only showing top 20 rows\n",
      "\n"
     ]
    },
    {
     "name": "stderr",
     "output_type": "stream",
     "text": [
      "                                                                                \r"
     ]
    }
   ],
   "source": [
    "adv_df1=(spark_df.select(\"orderid\",date_format(\"orderdate\",\"HH\").cast(\"int\").alias(\"hour\"))\n",
    "               .distinct()\n",
    "               .groupby(\"hour\").agg(count(\"orderid\").alias(\"totalorders\")).orderBy(\"totalorders\",ascending=False))\n",
    "adv_df1.show()"
   ]
  },
  {
   "cell_type": "code",
   "execution_count": 14,
   "id": "39543ab7-b812-465a-9a69-6b05cb8e2184",
   "metadata": {},
   "outputs": [
    {
     "name": "stderr",
     "output_type": "stream",
     "text": [
      "                                                                                \r"
     ]
    }
   ],
   "source": [
    "adv_pd=adv_df1.toPandas()"
   ]
  },
  {
   "cell_type": "code",
   "execution_count": 15,
   "id": "356b8c26-ed46-4508-b583-949f666177bb",
   "metadata": {},
   "outputs": [
    {
     "data": {
      "text/plain": [
       "Text(0, 0.5, 'Total Orders')"
      ]
     },
     "execution_count": 15,
     "metadata": {},
     "output_type": "execute_result"
    },
    {
     "data": {
      "image/png": "[encoded data removed]",
      "text/plain": [
       "<Figure size 1500x600 with 1 Axes>"
      ]
     },
     "metadata": {},
     "output_type": "display_data"
    }
   ],
   "source": [
    "sbn.set_theme(style='whitegrid')\n",
    "plt.figure(figsize=(15,6))\n",
    "plt.ticklabel_format(useOffset=False, style=\"plain\")\n",
    "sbn.lineplot(x=\"hour\" , y=\"totalorders\",data=adv_pd).set_title(\"total orders at particular hour of the day\")\n",
    "plt.ylabel(\"Total Orders\")"
   ]
  },
  {
   "cell_type": "markdown",
   "id": "5c45bbba-4464-46df-887c-d244238e4d28",
   "metadata": {},
   "source": [
    "### 4.What products are often sold together in the state of newyork?"
   ]
  },
  {
   "cell_type": "code",
   "execution_count": 16,
   "id": "d478c641-f083-4760-b898-e490c381b928",
   "metadata": {},
   "outputs": [
    {
     "name": "stderr",
     "output_type": "stream",
     "text": [
      "                                                                                \r"
     ]
    },
    {
     "name": "stdout",
     "output_type": "stream",
     "text": [
      "+-------+----------+\n",
      "|orderid|statecount|\n",
      "+-------+----------+\n",
      "| 308558|         1|\n",
      "| 310409|         1|\n",
      "| 302708|         2|\n",
      "| 308710|         1|\n",
      "| 318679|         1|\n",
      "| 307267|         1|\n",
      "| 303294|         1|\n",
      "| 311499|         1|\n",
      "| 299097|         1|\n",
      "| 310840|         1|\n",
      "| 310728|         1|\n",
      "| 319568|         1|\n",
      "| 297366|         1|\n",
      "| 312713|         1|\n",
      "| 314705|         1|\n",
      "| 299914|         1|\n",
      "| 303922|         1|\n",
      "| 298298|         1|\n",
      "| 298746|         1|\n",
      "| 305184|         1|\n",
      "+-------+----------+\n",
      "only showing top 20 rows\n",
      "\n",
      "+-------+-----+\n",
      "|orderid|state|\n",
      "+-------+-----+\n",
      "| 302708|   CA|\n",
      "| 302708|   CA|\n",
      "+-------+-----+\n",
      "\n"
     ]
    }
   ],
   "source": [
    "spark_df.groupby(\"orderid\").agg(count(\"state\").alias(\"statecount\")).where(col(\"orderid\")>1).show()\n",
    "spark_df.select(\"orderid\",\"state\").where(col(\"orderid\")==\"302708\").show()"
   ]
  },
  {
   "cell_type": "code",
   "execution_count": 23,
   "id": "5f694043-3b74-4ccf-99b0-12e72378c235",
   "metadata": {},
   "outputs": [
    {
     "name": "stderr",
     "output_type": "stream",
     "text": [
      "                                                                                \r"
     ]
    },
    {
     "name": "stdout",
     "output_type": "stream",
     "text": [
      "+-------+-----+--------------------+----------------+\n",
      "|orderid|state|         productlist|productlistcount|\n",
      "+-------+-----+--------------------+----------------+\n",
      "| 308924|   NY|[iPhone, Wired He...|               2|\n",
      "| 312563|   NY|[USB-C Charging C...|               1|\n",
      "| 316630|   NY|[USB-C Charging C...|               1|\n",
      "| 298165|   NY|  [Wired Headphones]|               1|\n",
      "| 301034|   NY|[iPhone, Wired He...|               2|\n",
      "| 305541|   NY|[AA Batteries (4-...|               1|\n",
      "| 305907|   NY|[AAA Batteries (4...|               1|\n",
      "| 314919|   NY|[USB-C Charging C...|               1|\n",
      "| 274947|   NY|[27in 4K Gaming M...|               1|\n",
      "| 296663|   NY|      [Google Phone]|               1|\n",
      "| 296939|   NY|[Lightning Chargi...|               1|\n",
      "| 304687|   NY|  [Wired Headphones]|               1|\n",
      "| 305406|   NY|[USB-C Charging C...|               1|\n",
      "| 314696|   NY|  [Wired Headphones]|               1|\n",
      "| 316514|   NY|[AAA Batteries (4...|               1|\n",
      "| 319361|   NY|[Apple Airpods He...|               1|\n",
      "| 305803|   NY|  [Wired Headphones]|               1|\n",
      "| 315161|   NY|[AAA Batteries (4...|               1|\n",
      "| 315852|   NY|  [Wired Headphones]|               1|\n",
      "| 318841|   NY|[Lightning Chargi...|               1|\n",
      "+-------+-----+--------------------+----------------+\n",
      "only showing top 20 rows\n",
      "\n"
     ]
    },
    {
     "name": "stderr",
     "output_type": "stream",
     "text": [
      "                                                                                \r"
     ]
    },
    {
     "name": "stdout",
     "output_type": "stream",
     "text": [
      "+-------+-----+--------------------+----------------+\n",
      "|orderid|state|         productlist|productlistcount|\n",
      "+-------+-----+--------------------+----------------+\n",
      "| 245008|   NY|[USB-C Charging C...|               3|\n",
      "| 254703|   NY|[Lightning Chargi...|               3|\n",
      "| 149936|   NY|[Google Phone, US...|               3|\n",
      "| 287477|   NY|[Apple Airpods He...|               3|\n",
      "| 213138|   NY|[USB-C Charging C...|               3|\n",
      "| 295735|   NY|[Wired Headphones...|               3|\n",
      "| 292230|   NY|[Google Phone, Bo...|               3|\n",
      "| 232755|   NY|[Bose SoundSport ...|               3|\n",
      "| 218995|   NY|[34in Ultrawide M...|               3|\n",
      "| 155053|   NY|[Wired Headphones...|               3|\n",
      "| 221229|   NY|[Lightning Chargi...|               3|\n",
      "| 173066|   NY|[Wired Headphones...|               3|\n",
      "| 219596|   NY|[Apple Airpods He...|               3|\n",
      "| 218530|   NY|[Vareebadd Phone,...|               3|\n",
      "| 194314|   NY|[USB-C Charging C...|               3|\n",
      "| 159000|   NY|[iPhone, Lightnin...|               3|\n",
      "| 209651|   NY|[USB-C Charging C...|               3|\n",
      "| 167261|   NY|[USB-C Charging C...|               3|\n",
      "| 206234|   NY|[Google Phone, US...|               3|\n",
      "| 275545|   NY|[Wired Headphones...|               3|\n",
      "+-------+-----+--------------------+----------------+\n",
      "only showing top 20 rows\n",
      "\n"
     ]
    },
    {
     "name": "stderr",
     "output_type": "stream",
     "text": [
      "[Stage 48:============================================>         (164 + 3) / 200]\r"
     ]
    },
    {
     "name": "stdout",
     "output_type": "stream",
     "text": [
      "+--------------------+---------+\n",
      "|         productlist|frequency|\n",
      "+--------------------+---------+\n",
      "|[iPhone, Lightnin...|       68|\n",
      "|[Google Phone, US...|       68|\n",
      "|[USB-C Charging C...|       59|\n",
      "|[Lightning Chargi...|       58|\n",
      "|[Google Phone, Wi...|       34|\n",
      "|[USB-C Charging C...|       30|\n",
      "|[Apple Airpods He...|       24|\n",
      "|[iPhone, Wired He...|       24|\n",
      "|[Wired Headphones...|       22|\n",
      "|[iPhone, Apple Ai...|       21|\n",
      "|[Vareebadd Phone,...|       20|\n",
      "|[Wired Headphones...|       19|\n",
      "|[Bose SoundSport ...|       13|\n",
      "|[AAA Batteries (4...|       13|\n",
      "|[Apple Airpods He...|       12|\n",
      "|[Google Phone, Bo...|       11|\n",
      "|[AA Batteries (4-...|       10|\n",
      "|[Wired Headphones...|       10|\n",
      "|[AA Batteries (4-...|        9|\n",
      "|[AA Batteries (4-...|        8|\n",
      "+--------------------+---------+\n",
      "only showing top 20 rows\n",
      "\n"
     ]
    },
    {
     "name": "stderr",
     "output_type": "stream",
     "text": [
      "                                                                                \r"
     ]
    }
   ],
   "source": [
    "state_df=(spark_df.filter(col(\"state\")=='NY').groupBy(\"orderid\",\"state\").agg(collect_list(\"product\").alias(\"productlist\"))\n",
    "             )\n",
    "state_df=state_df.withColumn(\"productlistcount\",size(\"productlist\"))\n",
    "state_df.show()\n",
    "state_df=state_df.filter(col(\"productlistcount\")>1).orderBy(\"productlistcount\",ascending=False)\n",
    "state_df.show()\n",
    "state_df=(state_df.groupBy(\"productlist\").agg(count(\"productlistcount\").alias(\"frequency\"))\n",
    " .orderBy(\"frequency\",ascending=False)\n",
    ".where(col(\"frequency\")>1)\n",
    ")\n",
    "state_df.show()"
   ]
  }
 ],
 "metadata": {
  "kernelspec": {
   "display_name": "Python 3 (ipykernel)",
   "language": "python",
   "name": "python3"
  },
  "language_info": {
   "codemirror_mode": {
    "name": "ipython",
    "version": 3
   },
   "file_extension": ".py",
   "mimetype": "text/x-python",
   "name": "python",
   "nbconvert_exporter": "python",
   "pygments_lexer": "ipython3",
   "version": "3.9.1"
  }
 },
 "nbformat": 4,
 "nbformat_minor": 5
}
