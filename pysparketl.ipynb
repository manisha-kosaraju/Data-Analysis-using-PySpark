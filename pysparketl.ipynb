{
 "cells": [
  {
   "cell_type": "code",
   "execution_count": 1,
   "id": "d9242c80-5131-4742-9ed7-bd216008969c",
   "metadata": {},
   "outputs": [],
   "source": [
    "from pyspark.sql import SparkSession\n",
    "from pyspark.sql.types import StructType, StructField,StringType,IntegerType\n",
    "from pyspark.sql.functions import col,split,to_timestamp,year,month\n",
    "from pyspark.sql.types import IntegerType, FloatType"
   ]
  },
  {
   "cell_type": "markdown",
   "id": "a4be7659-7469-4e3f-9791-c7190022491b",
   "metadata": {},
   "source": [
    "# EXTRACTING THE DATA"
   ]
  },
  {
   "cell_type": "code",
   "execution_count": 2,
   "id": "adfe6504-7c00-48b9-969a-02d007a031ca",
   "metadata": {},
   "outputs": [
    {
     "name": "stderr",
     "output_type": "stream",
     "text": [
      "24/03/17 05:16:27 WARN Utils: Your hostname, Manishas-MacBook-Air.local resolves to a loopback address: 127.0.0.1; using 10.1.10.215 instead (on interface en0)\n",
      "24/03/17 05:16:27 WARN Utils: Set SPARK_LOCAL_IP if you need to bind to another address\n",
      "WARNING: An illegal reflective access operation has occurred\n",
      "WARNING: Illegal reflective access by org.apache.spark.unsafe.Platform (file:/Library/Frameworks/Python.framework/Versions/3.9/lib/python3.9/site-packages/pyspark/jars/spark-unsafe_2.12-3.0.1.jar) to constructor java.nio.DirectByteBuffer(long,int)\n",
      "WARNING: Please consider reporting this to the maintainers of org.apache.spark.unsafe.Platform\n",
      "WARNING: Use --illegal-access=warn to enable warnings of further illegal reflective access operations\n",
      "WARNING: All illegal access operations will be denied in a future release\n",
      "24/03/17 05:16:27 WARN NativeCodeLoader: Unable to load native-hadoop library for your platform... using builtin-java classes where applicable\n",
      "Using Spark's default log4j profile: org/apache/spark/log4j-defaults.properties\n",
      "Setting default log level to \"WARN\".\n",
      "To adjust logging level use sc.setLogLevel(newLevel). For SparkR, use setLogLevel(newLevel).\n"
     ]
    }
   ],
   "source": [
    "spark=SparkSession.builder.appName(\"practice1\").getOrCreate()"
   ]
  },
  {
   "cell_type": "code",
   "execution_count": 3,
   "id": "d97134a6-ef2f-4173-b40b-7202a5ca1d34",
   "metadata": {},
   "outputs": [],
   "source": [
    "schema=StructType([\n",
    "    StructField(\"Order ID\",StringType(),True),\n",
    "    StructField(\"Product\",StringType(),True),\n",
    "    StructField(\"Quantity Ordered\",StringType(),True),\n",
    "    StructField(\"Price Each\",StringType(),True),\n",
    "    StructField(\"Order Date\",StringType(),True),\n",
    "    StructField(\"Purchase Address\",StringType(),True)\n",
    "    \n",
    "])"
   ]
  },
  {
   "cell_type": "code",
   "execution_count": 4,
   "id": "7fe7ae35-e091-4a3f-92ca-8cab38c41c35",
   "metadata": {},
   "outputs": [],
   "source": [
    "salesfile_path=\"./data/salesdata\"\n",
    "df=spark.read.format(\"csv\").option(\"header\",True).schema(schema).load(salesfile_path)"
   ]
  },
  {
   "cell_type": "code",
   "execution_count": 5,
   "id": "b5234cef-3478-4717-a647-a545fe97419e",
   "metadata": {},
   "outputs": [
    {
     "name": "stdout",
     "output_type": "stream",
     "text": [
      "+--------+--------------------+----------------+----------+--------------+--------------------+\n",
      "|Order ID|             Product|Quantity Ordered|Price Each|    Order Date|    Purchase Address|\n",
      "+--------+--------------------+----------------+----------+--------------+--------------------+\n",
      "|  295665|  Macbook Pro Laptop|               1|      1700|12/30/19 00:01|136 Church St, Ne...|\n",
      "|  295666|  LG Washing Machine|               1|     600.0|12/29/19 07:03|562 2nd St, New Y...|\n",
      "|  295667|USB-C Charging Cable|               1|     11.95|12/12/19 18:21|277 Main St, New ...|\n",
      "|  295668|    27in FHD Monitor|               1|    149.99|12/22/19 15:13|410 6th St, San F...|\n",
      "|  295669|USB-C Charging Cable|               1|     11.95|12/18/19 12:38|43 Hill St, Atlan...|\n",
      "|  295670|AA Batteries (4-p...|               1|      3.84|12/31/19 22:58|200 Jefferson St,...|\n",
      "|  295671|USB-C Charging Cable|               1|     11.95|12/16/19 15:10|928 12th St, Port...|\n",
      "|  295672|USB-C Charging Cable|               2|     11.95|12/13/19 09:29|813 Hickory St, D...|\n",
      "|  295673|Bose SoundSport H...|               1|     99.99|12/15/19 23:26|718 Wilson St, Da...|\n",
      "|  295674|AAA Batteries (4-...|               4|      2.99|12/28/19 11:51|77 7th St, Dallas...|\n",
      "|  295675|USB-C Charging Cable|               2|     11.95|12/13/19 13:52|594 1st St, San F...|\n",
      "|  295676|     ThinkPad Laptop|               1|    999.99|12/28/19 17:19|410 Lincoln St, L...|\n",
      "|  295677|AA Batteries (4-p...|               2|      3.84|12/20/19 19:19|866 Pine St, Bost...|\n",
      "|  295678|AAA Batteries (4-...|               2|      2.99|12/06/19 09:38|187 Lincoln St, D...|\n",
      "|  295679|USB-C Charging Cable|               1|     11.95|12/25/19 09:39|902 2nd St, Dalla...|\n",
      "|  295680|Lightning Chargin...|               1|     14.95|12/01/19 14:30|338 Main St, Aust...|\n",
      "|  295681|        Google Phone|               1|       600|12/25/19 12:37|79 Elm St, Boston...|\n",
      "|  295681|USB-C Charging Cable|               1|     11.95|12/25/19 12:37|79 Elm St, Boston...|\n",
      "|  295681|Bose SoundSport H...|               1|     99.99|12/25/19 12:37|79 Elm St, Boston...|\n",
      "|  295681|    Wired Headphones|               1|     11.99|12/25/19 12:37|79 Elm St, Boston...|\n",
      "+--------+--------------------+----------------+----------+--------------+--------------------+\n",
      "only showing top 20 rows\n",
      "\n"
     ]
    }
   ],
   "source": [
    "df.show(truncate=True)"
   ]
  },
  {
   "cell_type": "code",
   "execution_count": 6,
   "id": "b6a2dcb4-f5b7-455d-954c-28535a4eeb29",
   "metadata": {},
   "outputs": [
    {
     "name": "stdout",
     "output_type": "stream",
     "text": [
      "root\n",
      " |-- Order ID: string (nullable = true)\n",
      " |-- Product: string (nullable = true)\n",
      " |-- Quantity Ordered: string (nullable = true)\n",
      " |-- Price Each: string (nullable = true)\n",
      " |-- Order Date: string (nullable = true)\n",
      " |-- Purchase Address: string (nullable = true)\n",
      "\n"
     ]
    }
   ],
   "source": [
    "df.printSchema()"
   ]
  },
  {
   "cell_type": "markdown",
   "id": "2b47c49e-e31e-4dff-81ec-4b607fb606e4",
   "metadata": {},
   "source": [
    "# TRANSFORMING THE DATA"
   ]
  },
  {
   "cell_type": "markdown",
   "id": "fac67784-5d07-4eba-90b1-652265661b87",
   "metadata": {},
   "source": [
    "## Data preparation and cleansing"
   ]
  },
  {
   "cell_type": "markdown",
   "id": "2733c97b-8b76-4db0-953d-e2750409ff78",
   "metadata": {},
   "source": [
    "### Removing null rows and bad records "
   ]
  },
  {
   "cell_type": "code",
   "execution_count": 7,
   "id": "214fa176-41df-43ac-af6e-a21897f7b59a",
   "metadata": {},
   "outputs": [
    {
     "name": "stdout",
     "output_type": "stream",
     "text": [
      "+--------+-------+----------------+----------+----------+----------------+\n",
      "|Order ID|Product|Quantity Ordered|Price Each|Order Date|Purchase Address|\n",
      "+--------+-------+----------------+----------+----------+----------------+\n",
      "|    null|   null|            null|      null|      null|            null|\n",
      "|    null|   null|            null|      null|      null|            null|\n",
      "|    null|   null|            null|      null|      null|            null|\n",
      "|    null|   null|            null|      null|      null|            null|\n",
      "|    null|   null|            null|      null|      null|            null|\n",
      "|    null|   null|            null|      null|      null|            null|\n",
      "|    null|   null|            null|      null|      null|            null|\n",
      "|    null|   null|            null|      null|      null|            null|\n",
      "|    null|   null|            null|      null|      null|            null|\n",
      "|    null|   null|            null|      null|      null|            null|\n",
      "|    null|   null|            null|      null|      null|            null|\n",
      "|    null|   null|            null|      null|      null|            null|\n",
      "|    null|   null|            null|      null|      null|            null|\n",
      "|    null|   null|            null|      null|      null|            null|\n",
      "|    null|   null|            null|      null|      null|            null|\n",
      "|    null|   null|            null|      null|      null|            null|\n",
      "|    null|   null|            null|      null|      null|            null|\n",
      "|    null|   null|            null|      null|      null|            null|\n",
      "|    null|   null|            null|      null|      null|            null|\n",
      "|    null|   null|            null|      null|      null|            null|\n",
      "+--------+-------+----------------+----------+----------+----------------+\n",
      "only showing top 20 rows\n",
      "\n"
     ]
    }
   ],
   "source": [
    "df.filter(col('Order ID').isNull()==True).show()"
   ]
  },
  {
   "cell_type": "code",
   "execution_count": 8,
   "id": "4dc30701-b72b-488a-ad7e-7b75a8352e33",
   "metadata": {},
   "outputs": [],
   "source": [
    "df= df.na.drop(\"any\")\n"
   ]
  },
  {
   "cell_type": "code",
   "execution_count": 9,
   "id": "61b4cdc6-77a6-4c96-84d7-2be111ff09af",
   "metadata": {},
   "outputs": [
    {
     "name": "stdout",
     "output_type": "stream",
     "text": [
      "+--------+-------+----------------+----------+----------+----------------+\n",
      "|Order ID|Product|Quantity Ordered|Price Each|Order Date|Purchase Address|\n",
      "+--------+-------+----------------+----------+----------+----------------+\n",
      "+--------+-------+----------------+----------+----------+----------------+\n",
      "\n"
     ]
    }
   ],
   "source": [
    "df.filter(col('Order ID').isNull()==True).show()\n"
   ]
  },
  {
   "cell_type": "code",
   "execution_count": 10,
   "id": "0fbcae3e-b5e9-4eb3-a4e7-272d65136b4e",
   "metadata": {},
   "outputs": [
    {
     "name": "stderr",
     "output_type": "stream",
     "text": [
      "                                                                                \r"
     ]
    },
    {
     "name": "stdout",
     "output_type": "stream",
     "text": [
      "+-------+------------------+------------+-------------------+------------------+--------------+--------------------+\n",
      "|summary|          Order ID|     Product|   Quantity Ordered|        Price Each|    Order Date|    Purchase Address|\n",
      "+-------+------------------+------------+-------------------+------------------+--------------+--------------------+\n",
      "|  count|            186305|      186305|             186305|            186305|        186305|              186305|\n",
      "|   mean| 230417.5693788653|        null| 1.1243828986286637|184.39973476745283|          null|                null|\n",
      "| stddev|51512.737109994916|        null|0.44279262402866904| 332.7313298843438|          null|                null|\n",
      "|    min|            141234|20in Monitor|                  1|            109.99|01/01/19 03:07|1 11th St, Atlant...|\n",
      "|    max|          Order ID|      iPhone|   Quantity Ordered|        Price Each|    Order Date|    Purchase Address|\n",
      "+-------+------------------+------------+-------------------+------------------+--------------+--------------------+\n",
      "\n"
     ]
    }
   ],
   "source": [
    "df.describe(\"Order ID\",\"Product\",\"Quantity Ordered\",\"Price Each\",\"Order Date\",\"Purchase Address\").show()"
   ]
  },
  {
   "cell_type": "code",
   "execution_count": 11,
   "id": "cd68dc66-f103-43f1-8db8-3a2c6555038b",
   "metadata": {},
   "outputs": [
    {
     "name": "stdout",
     "output_type": "stream",
     "text": [
      "+--------+-------+----------------+----------+----------+----------------+\n",
      "|Order ID|Product|Quantity Ordered|Price Each|Order Date|Purchase Address|\n",
      "+--------+-------+----------------+----------+----------+----------------+\n",
      "|Order ID|Product|Quantity Ordered|Price Each|Order Date|Purchase Address|\n",
      "|Order ID|Product|Quantity Ordered|Price Each|Order Date|Purchase Address|\n",
      "|Order ID|Product|Quantity Ordered|Price Each|Order Date|Purchase Address|\n",
      "|Order ID|Product|Quantity Ordered|Price Each|Order Date|Purchase Address|\n",
      "|Order ID|Product|Quantity Ordered|Price Each|Order Date|Purchase Address|\n",
      "|Order ID|Product|Quantity Ordered|Price Each|Order Date|Purchase Address|\n",
      "|Order ID|Product|Quantity Ordered|Price Each|Order Date|Purchase Address|\n",
      "|Order ID|Product|Quantity Ordered|Price Each|Order Date|Purchase Address|\n",
      "|Order ID|Product|Quantity Ordered|Price Each|Order Date|Purchase Address|\n",
      "|Order ID|Product|Quantity Ordered|Price Each|Order Date|Purchase Address|\n",
      "|Order ID|Product|Quantity Ordered|Price Each|Order Date|Purchase Address|\n",
      "|Order ID|Product|Quantity Ordered|Price Each|Order Date|Purchase Address|\n",
      "|Order ID|Product|Quantity Ordered|Price Each|Order Date|Purchase Address|\n",
      "|Order ID|Product|Quantity Ordered|Price Each|Order Date|Purchase Address|\n",
      "|Order ID|Product|Quantity Ordered|Price Each|Order Date|Purchase Address|\n",
      "|Order ID|Product|Quantity Ordered|Price Each|Order Date|Purchase Address|\n",
      "|Order ID|Product|Quantity Ordered|Price Each|Order Date|Purchase Address|\n",
      "|Order ID|Product|Quantity Ordered|Price Each|Order Date|Purchase Address|\n",
      "|Order ID|Product|Quantity Ordered|Price Each|Order Date|Purchase Address|\n",
      "|Order ID|Product|Quantity Ordered|Price Each|Order Date|Purchase Address|\n",
      "+--------+-------+----------------+----------+----------+----------------+\n",
      "only showing top 20 rows\n",
      "\n"
     ]
    }
   ],
   "source": [
    "df.filter(col(\"Order ID\")==\"Order ID\").show()"
   ]
  },
  {
   "cell_type": "code",
   "execution_count": 12,
   "id": "e93c0a0d-5996-47e1-b254-509fda910d7b",
   "metadata": {},
   "outputs": [],
   "source": [
    "new_df=df.distinct()\n"
   ]
  },
  {
   "cell_type": "code",
   "execution_count": 13,
   "id": "209e8b13-74dd-4dca-8955-6f61ef9f6405",
   "metadata": {},
   "outputs": [
    {
     "name": "stdout",
     "output_type": "stream",
     "text": [
      "+--------+-------+----------------+----------+----------+----------------+\n",
      "|Order ID|Product|Quantity Ordered|Price Each|Order Date|Purchase Address|\n",
      "+--------+-------+----------------+----------+----------+----------------+\n",
      "|Order ID|Product|Quantity Ordered|Price Each|Order Date|Purchase Address|\n",
      "+--------+-------+----------------+----------+----------+----------------+\n",
      "\n"
     ]
    }
   ],
   "source": [
    "new_df.filter(col(\"Order ID\")==\"Order ID\").show()"
   ]
  },
  {
   "cell_type": "code",
   "execution_count": 14,
   "id": "286d1082-bd91-4188-8467-070e38194413",
   "metadata": {},
   "outputs": [],
   "source": [
    "new_df= new_df.filter(col(\"Order ID\") != \"Order ID\")"
   ]
  },
  {
   "cell_type": "code",
   "execution_count": 15,
   "id": "7bc1aa95-e2c4-41d8-8632-f622e0bcefc0",
   "metadata": {},
   "outputs": [
    {
     "name": "stdout",
     "output_type": "stream",
     "text": [
      "+--------+-------+----------------+----------+----------+----------------+\n",
      "|Order ID|Product|Quantity Ordered|Price Each|Order Date|Purchase Address|\n",
      "+--------+-------+----------------+----------+----------+----------------+\n",
      "+--------+-------+----------------+----------+----------+----------------+\n",
      "\n"
     ]
    }
   ],
   "source": [
    "new_df.filter(col(\"Order ID\")==\"Order ID\").show()"
   ]
  },
  {
   "cell_type": "code",
   "execution_count": 16,
   "id": "7e367537-efab-4396-b410-8054c30e9fac",
   "metadata": {},
   "outputs": [
    {
     "name": "stderr",
     "output_type": "stream",
     "text": [
      "[Stage 18:=============================================>        (167 + 3) / 200]\r"
     ]
    },
    {
     "name": "stdout",
     "output_type": "stream",
     "text": [
      "+-------+------------------+------------+------------------+------------------+--------------+--------------------------------------+\n",
      "|summary|Order ID          |Product     |Quantity Ordered  |Price Each        |Order Date    |Purchase Address                      |\n",
      "+-------+------------------+------------+------------------+------------------+--------------+--------------------------------------+\n",
      "|count  |185686            |185686      |185686            |185686            |185686        |185686                                |\n",
      "|mean   |230411.37622653297|null        |1.1245435843305365|184.51925546352427|null          |null                                  |\n",
      "|stddev |51511.71718332086 |null        |0.4430687383832874|332.8438383900525 |null          |null                                  |\n",
      "|min    |141234            |20in Monitor|1                 |109.99            |01/01/19 03:07|1 11th St, Atlanta, GA 30301          |\n",
      "|max    |319670            |iPhone      |9                 |999.99            |12/31/19 23:53|999 Wilson St, San Francisco, CA 94016|\n",
      "+-------+------------------+------------+------------------+------------------+--------------+--------------------------------------+\n",
      "\n"
     ]
    },
    {
     "name": "stderr",
     "output_type": "stream",
     "text": [
      "                                                                                \r"
     ]
    }
   ],
   "source": [
    "new_df.describe(\"Order ID\",\"Product\",\"Quantity Ordered\",\"Price Each\",\"Order Date\",\"Purchase Address\").show(truncate=False)"
   ]
  },
  {
   "cell_type": "markdown",
   "id": "23e8d7e0-34d9-4630-a661-b01344e3ce51",
   "metadata": {},
   "source": [
    "### extract city and state from purchase address"
   ]
  },
  {
   "cell_type": "code",
   "execution_count": 17,
   "id": "d040c978-2902-43b7-b655-a699fb1db280",
   "metadata": {},
   "outputs": [
    {
     "name": "stdout",
     "output_type": "stream",
     "text": [
      "+----------------------------------------+--------------------------------------------+\n",
      "|Purchase Address                        |split(Purchase Address, ,, -1)              |\n",
      "+----------------------------------------+--------------------------------------------+\n",
      "|283 Washington St, Boston, MA 02215     |[283 Washington St,  Boston,  MA 02215]     |\n",
      "|968 8th St, Austin, TX 73301            |[968 8th St,  Austin,  TX 73301]            |\n",
      "|857 Center St, Boston, MA 02215         |[857 Center St,  Boston,  MA 02215]         |\n",
      "|679 Chestnut St, San Francisco, CA 94016|[679 Chestnut St,  San Francisco,  CA 94016]|\n",
      "|58 Dogwood St, San Francisco, CA 94016  |[58 Dogwood St,  San Francisco,  CA 94016]  |\n",
      "|355 Park St, Boston, MA 02215           |[355 Park St,  Boston,  MA 02215]           |\n",
      "|542 9th St, New York City, NY 10001     |[542 9th St,  New York City,  NY 10001]     |\n",
      "|708 Walnut St, New York City, NY 10001  |[708 Walnut St,  New York City,  NY 10001]  |\n",
      "|538 Hickory St, San Francisco, CA 94016 |[538 Hickory St,  San Francisco,  CA 94016] |\n",
      "|199 8th St, San Francisco, CA 94016     |[199 8th St,  San Francisco,  CA 94016]     |\n",
      "+----------------------------------------+--------------------------------------------+\n",
      "only showing top 10 rows\n",
      "\n"
     ]
    }
   ],
   "source": [
    "new_df.select(\"Purchase Address\",split(col(\"Purchase Address\"),\",\")).show(10,truncate=False)"
   ]
  },
  {
   "cell_type": "code",
   "execution_count": 18,
   "id": "9e5f0853-5641-4c83-a071-ee5ea46ce39e",
   "metadata": {},
   "outputs": [
    {
     "name": "stdout",
     "output_type": "stream",
     "text": [
      "+----------------------------------------+---------------------------------+\n",
      "|Purchase Address                        |split(Purchase Address, ,, -1)[1]|\n",
      "+----------------------------------------+---------------------------------+\n",
      "|283 Washington St, Boston, MA 02215     | Boston                          |\n",
      "|968 8th St, Austin, TX 73301            | Austin                          |\n",
      "|857 Center St, Boston, MA 02215         | Boston                          |\n",
      "|679 Chestnut St, San Francisco, CA 94016| San Francisco                   |\n",
      "|58 Dogwood St, San Francisco, CA 94016  | San Francisco                   |\n",
      "|355 Park St, Boston, MA 02215           | Boston                          |\n",
      "|542 9th St, New York City, NY 10001     | New York City                   |\n",
      "|708 Walnut St, New York City, NY 10001  | New York City                   |\n",
      "|538 Hickory St, San Francisco, CA 94016 | San Francisco                   |\n",
      "|199 8th St, San Francisco, CA 94016     | San Francisco                   |\n",
      "+----------------------------------------+---------------------------------+\n",
      "only showing top 10 rows\n",
      "\n"
     ]
    }
   ],
   "source": [
    "new_df.select(\"Purchase Address\",split(col(\"Purchase Address\"),\",\").getItem(1)).show(10,truncate=False)\n"
   ]
  },
  {
   "cell_type": "code",
   "execution_count": 19,
   "id": "0fdf7937-9d1d-4a66-bb16-924f140979fc",
   "metadata": {},
   "outputs": [
    {
     "name": "stdout",
     "output_type": "stream",
     "text": [
      "+----------------------------------------+---------------------------------+\n",
      "|Purchase Address                        |split(Purchase Address, ,, -1)[2]|\n",
      "+----------------------------------------+---------------------------------+\n",
      "|283 Washington St, Boston, MA 02215     | MA 02215                        |\n",
      "|968 8th St, Austin, TX 73301            | TX 73301                        |\n",
      "|857 Center St, Boston, MA 02215         | MA 02215                        |\n",
      "|679 Chestnut St, San Francisco, CA 94016| CA 94016                        |\n",
      "|58 Dogwood St, San Francisco, CA 94016  | CA 94016                        |\n",
      "|355 Park St, Boston, MA 02215           | MA 02215                        |\n",
      "|542 9th St, New York City, NY 10001     | NY 10001                        |\n",
      "|708 Walnut St, New York City, NY 10001  | NY 10001                        |\n",
      "|538 Hickory St, San Francisco, CA 94016 | CA 94016                        |\n",
      "|199 8th St, San Francisco, CA 94016     | CA 94016                        |\n",
      "+----------------------------------------+---------------------------------+\n",
      "only showing top 10 rows\n",
      "\n"
     ]
    }
   ],
   "source": [
    "new_df.select(\"Purchase Address\",split(col(\"Purchase Address\"),\",\").getItem(2)).show(10,truncate=False)"
   ]
  },
  {
   "cell_type": "code",
   "execution_count": 20,
   "id": "be8cf0ef-cf82-4bdb-88a6-51e64a7e1c4e",
   "metadata": {},
   "outputs": [
    {
     "name": "stdout",
     "output_type": "stream",
     "text": [
      "+----------------------------------------+--------------------------------------------------+\n",
      "|Purchase Address                        |split(split(Purchase Address, ,, -1)[2],  , -1)[1]|\n",
      "+----------------------------------------+--------------------------------------------------+\n",
      "|283 Washington St, Boston, MA 02215     |MA                                                |\n",
      "|968 8th St, Austin, TX 73301            |TX                                                |\n",
      "|857 Center St, Boston, MA 02215         |MA                                                |\n",
      "|679 Chestnut St, San Francisco, CA 94016|CA                                                |\n",
      "|58 Dogwood St, San Francisco, CA 94016  |CA                                                |\n",
      "|355 Park St, Boston, MA 02215           |MA                                                |\n",
      "|542 9th St, New York City, NY 10001     |NY                                                |\n",
      "|708 Walnut St, New York City, NY 10001  |NY                                                |\n",
      "|538 Hickory St, San Francisco, CA 94016 |CA                                                |\n",
      "|199 8th St, San Francisco, CA 94016     |CA                                                |\n",
      "+----------------------------------------+--------------------------------------------------+\n",
      "only showing top 10 rows\n",
      "\n"
     ]
    }
   ],
   "source": [
    "new_df.select(\"Purchase Address\",split(split(col(\"Purchase Address\"),\",\").getItem(2),\" \").getItem(1)).show(10,truncate=False)"
   ]
  },
  {
   "cell_type": "code",
   "execution_count": 21,
   "id": "5c2c9457-d486-4b90-a641-a5c1c9cd1da0",
   "metadata": {},
   "outputs": [],
   "source": [
    "new_df=(new_df.withColumn(\"City\",split(col(\"Purchase Address\"),\",\").getItem(1))\n",
    "       .withColumn(\"State\",split(split(col(\"Purchase Address\"),\",\").getItem(2),\" \").getItem(1))\n",
    "    )"
   ]
  },
  {
   "cell_type": "code",
   "execution_count": 22,
   "id": "724f59fa-31ee-4d9e-9ace-99de50f45f85",
   "metadata": {},
   "outputs": [
    {
     "name": "stdout",
     "output_type": "stream",
     "text": [
      "+--------+--------------------+----------------+----------+--------------+--------------------+--------------+-----+\n",
      "|Order ID|             Product|Quantity Ordered|Price Each|    Order Date|    Purchase Address|          City|State|\n",
      "+--------+--------------------+----------------+----------+--------------+--------------------+--------------+-----+\n",
      "|  295900|AA Batteries (4-p...|               1|      3.84|12/27/19 18:56|283 Washington St...|        Boston|   MA|\n",
      "|  295923|Lightning Chargin...|               1|     14.95|12/21/19 13:41|968 8th St, Austi...|        Austin|   TX|\n",
      "|  295991|Lightning Chargin...|               1|     14.95|12/15/19 20:16|857 Center St, Bo...|        Boston|   MA|\n",
      "|  296076|  Macbook Pro Laptop|               1|      1700|12/03/19 15:19|679 Chestnut St, ...| San Francisco|   CA|\n",
      "|  297015|AAA Batteries (4-...|               3|      2.99|12/13/19 08:43|58 Dogwood St, Sa...| San Francisco|   CA|\n",
      "|  297237|Bose SoundSport H...|               1|     99.99|12/16/19 10:28|355 Park St, Bost...|        Boston|   MA|\n",
      "|  297376|    27in FHD Monitor|               1|    149.99|12/03/19 11:38|542 9th St, New Y...| New York City|   NY|\n",
      "|  297438|Lightning Chargin...|               1|     14.95|12/17/19 13:13|708 Walnut St, Ne...| New York City|   NY|\n",
      "|  297541|AAA Batteries (4-...|               1|      2.99|12/20/19 10:24|538 Hickory St, S...| San Francisco|   CA|\n",
      "|  297635|    Wired Headphones|               1|     11.99|12/06/19 09:50|199 8th St, San F...| San Francisco|   CA|\n",
      "|  297715|USB-C Charging Cable|               1|     11.95|12/31/19 14:29|421 Johnson St, S...| San Francisco|   CA|\n",
      "|  297842|Lightning Chargin...|               1|     14.95|12/17/19 16:36|634 10th St, San ...| San Francisco|   CA|\n",
      "|  298034|       Flatscreen TV|               1|       300|12/25/19 10:10|407 5th St, Dalla...|        Dallas|   TX|\n",
      "|  298348|    Wired Headphones|               1|     11.99|12/01/19 14:46|854 Cedar St, Los...|   Los Angeles|   CA|\n",
      "|  298442|Lightning Chargin...|               2|     14.95|12/18/19 11:10|974 Maple St, New...| New York City|   NY|\n",
      "|  298493|AA Batteries (4-p...|               1|      3.84|12/25/19 00:29|58 Dogwood St, Bo...|        Boston|   MA|\n",
      "|  298580|    Wired Headphones|               1|     11.99|12/08/19 08:00|428 South St, Los...|   Los Angeles|   CA|\n",
      "|  298726|AAA Batteries (4-...|               2|      2.99|12/04/19 13:21|592 Church St, Lo...|   Los Angeles|   CA|\n",
      "|  298943|AAA Batteries (4-...|               1|      2.99|12/02/19 11:44|213 1st St, Bosto...|        Boston|   MA|\n",
      "|  299788|    27in FHD Monitor|               1|    149.99|12/05/19 17:12|722 Lakeview St, ...| San Francisco|   CA|\n",
      "+--------+--------------------+----------------+----------+--------------+--------------------+--------------+-----+\n",
      "only showing top 20 rows\n",
      "\n"
     ]
    }
   ],
   "source": [
    "new_df.show()"
   ]
  },
  {
   "cell_type": "markdown",
   "id": "e5b4faff-b146-4cc5-b034-370c4f08b3d0",
   "metadata": {},
   "source": [
    "### Rename and change datatypes"
   ]
  },
  {
   "cell_type": "code",
   "execution_count": 23,
   "id": "bec541a3-a4ed-4a0e-a9c6-34c55799a57a",
   "metadata": {},
   "outputs": [
    {
     "name": "stdout",
     "output_type": "stream",
     "text": [
      "root\n",
      " |-- Order ID: string (nullable = true)\n",
      " |-- Product: string (nullable = true)\n",
      " |-- Quantity Ordered: string (nullable = true)\n",
      " |-- Price Each: string (nullable = true)\n",
      " |-- Order Date: string (nullable = true)\n",
      " |-- Purchase Address: string (nullable = true)\n",
      " |-- City: string (nullable = true)\n",
      " |-- State: string (nullable = true)\n",
      "\n"
     ]
    }
   ],
   "source": [
    "new_df.printSchema()"
   ]
  },
  {
   "cell_type": "code",
   "execution_count": 24,
   "id": "68d82c51-09a5-44f8-bb4e-59e51d77d046",
   "metadata": {},
   "outputs": [],
   "source": [
    "new_df=(new_df.withColumn(\"orderid\", col(\"Order ID\").cast(IntegerType()))\n",
    "       .withColumn(\"price\", col(\"Price Each\").cast(FloatType()))\n",
    "       .withColumn(\"Quantity\", col(\"Quantity Ordered\").cast(IntegerType()))\n",
    "       .withColumn(\"orderdate\", to_timestamp(col(\"Order Date\"),\"MM/dd/yy HH:mm\"))\n",
    "       .withColumnRenamed(\"Purchase Address\",\"storeaddress\")\n",
    "       .drop(\"Order ID\")\n",
    "       .drop(\"Price Each\")\n",
    "       .drop(\"Quantity Ordered\")\n",
    "       .drop(\"Order Date\"))\n",
    "    "
   ]
  },
  {
   "cell_type": "code",
   "execution_count": 25,
   "id": "88ec6ed5-477e-4813-b35f-3f9bf6a432b7",
   "metadata": {},
   "outputs": [
    {
     "name": "stdout",
     "output_type": "stream",
     "text": [
      "root\n",
      " |-- Product: string (nullable = true)\n",
      " |-- storeaddress: string (nullable = true)\n",
      " |-- City: string (nullable = true)\n",
      " |-- State: string (nullable = true)\n",
      " |-- orderid: integer (nullable = true)\n",
      " |-- price: float (nullable = true)\n",
      " |-- Quantity: integer (nullable = true)\n",
      " |-- orderdate: timestamp (nullable = true)\n",
      "\n"
     ]
    }
   ],
   "source": [
    "new_df.printSchema()"
   ]
  },
  {
   "cell_type": "code",
   "execution_count": 26,
   "id": "86087732-6bb9-440b-b50a-3926967200df",
   "metadata": {},
   "outputs": [
    {
     "name": "stdout",
     "output_type": "stream",
     "text": [
      "+--------------------+--------------------+--------------+-----+-------+------+--------+-------------------+\n",
      "|             Product|        storeaddress|          City|State|orderid| price|Quantity|          orderdate|\n",
      "+--------------------+--------------------+--------------+-----+-------+------+--------+-------------------+\n",
      "|AA Batteries (4-p...|283 Washington St...|        Boston|   MA| 295900|  3.84|       1|2019-12-27 18:56:00|\n",
      "|Lightning Chargin...|968 8th St, Austi...|        Austin|   TX| 295923| 14.95|       1|2019-12-21 13:41:00|\n",
      "|Lightning Chargin...|857 Center St, Bo...|        Boston|   MA| 295991| 14.95|       1|2019-12-15 20:16:00|\n",
      "|  Macbook Pro Laptop|679 Chestnut St, ...| San Francisco|   CA| 296076|1700.0|       1|2019-12-03 15:19:00|\n",
      "|AAA Batteries (4-...|58 Dogwood St, Sa...| San Francisco|   CA| 297015|  2.99|       3|2019-12-13 08:43:00|\n",
      "|Bose SoundSport H...|355 Park St, Bost...|        Boston|   MA| 297237| 99.99|       1|2019-12-16 10:28:00|\n",
      "|    27in FHD Monitor|542 9th St, New Y...| New York City|   NY| 297376|149.99|       1|2019-12-03 11:38:00|\n",
      "|Lightning Chargin...|708 Walnut St, Ne...| New York City|   NY| 297438| 14.95|       1|2019-12-17 13:13:00|\n",
      "|AAA Batteries (4-...|538 Hickory St, S...| San Francisco|   CA| 297541|  2.99|       1|2019-12-20 10:24:00|\n",
      "|    Wired Headphones|199 8th St, San F...| San Francisco|   CA| 297635| 11.99|       1|2019-12-06 09:50:00|\n",
      "|USB-C Charging Cable|421 Johnson St, S...| San Francisco|   CA| 297715| 11.95|       1|2019-12-31 14:29:00|\n",
      "|Lightning Chargin...|634 10th St, San ...| San Francisco|   CA| 297842| 14.95|       1|2019-12-17 16:36:00|\n",
      "|       Flatscreen TV|407 5th St, Dalla...|        Dallas|   TX| 298034| 300.0|       1|2019-12-25 10:10:00|\n",
      "|    Wired Headphones|854 Cedar St, Los...|   Los Angeles|   CA| 298348| 11.99|       1|2019-12-01 14:46:00|\n",
      "|Lightning Chargin...|974 Maple St, New...| New York City|   NY| 298442| 14.95|       2|2019-12-18 11:10:00|\n",
      "|AA Batteries (4-p...|58 Dogwood St, Bo...|        Boston|   MA| 298493|  3.84|       1|2019-12-25 00:29:00|\n",
      "|    Wired Headphones|428 South St, Los...|   Los Angeles|   CA| 298580| 11.99|       1|2019-12-08 08:00:00|\n",
      "|AAA Batteries (4-...|592 Church St, Lo...|   Los Angeles|   CA| 298726|  2.99|       2|2019-12-04 13:21:00|\n",
      "|AAA Batteries (4-...|213 1st St, Bosto...|        Boston|   MA| 298943|  2.99|       1|2019-12-02 11:44:00|\n",
      "|    27in FHD Monitor|722 Lakeview St, ...| San Francisco|   CA| 299788|149.99|       1|2019-12-05 17:12:00|\n",
      "+--------------------+--------------------+--------------+-----+-------+------+--------+-------------------+\n",
      "only showing top 20 rows\n",
      "\n"
     ]
    }
   ],
   "source": [
    "new_df.show()"
   ]
  },
  {
   "cell_type": "markdown",
   "id": "4d67794b-0972-41ee-b524-94336c467589",
   "metadata": {},
   "source": [
    "### Adding columns: month, year"
   ]
  },
  {
   "cell_type": "code",
   "execution_count": 27,
   "id": "c9a85d30-65ee-4af1-ad7d-0618af1f86c2",
   "metadata": {},
   "outputs": [],
   "source": [
    "new_df=(new_df.withColumn(\"year\", year(col(\"orderdate\")))\n",
    "               .withColumn(\"month\",month(col(\"orderdate\"))))"
   ]
  },
  {
   "cell_type": "code",
   "execution_count": 28,
   "id": "be2cdcea-954a-4811-a957-ad965642806c",
   "metadata": {},
   "outputs": [
    {
     "name": "stdout",
     "output_type": "stream",
     "text": [
      "+--------------------+--------------------+--------------+-----+-------+------+--------+-------------------+----+-----+\n",
      "|             Product|        storeaddress|          City|State|orderid| price|Quantity|          orderdate|year|month|\n",
      "+--------------------+--------------------+--------------+-----+-------+------+--------+-------------------+----+-----+\n",
      "|AA Batteries (4-p...|283 Washington St...|        Boston|   MA| 295900|  3.84|       1|2019-12-27 18:56:00|2019|   12|\n",
      "|Lightning Chargin...|968 8th St, Austi...|        Austin|   TX| 295923| 14.95|       1|2019-12-21 13:41:00|2019|   12|\n",
      "|Lightning Chargin...|857 Center St, Bo...|        Boston|   MA| 295991| 14.95|       1|2019-12-15 20:16:00|2019|   12|\n",
      "|  Macbook Pro Laptop|679 Chestnut St, ...| San Francisco|   CA| 296076|1700.0|       1|2019-12-03 15:19:00|2019|   12|\n",
      "|AAA Batteries (4-...|58 Dogwood St, Sa...| San Francisco|   CA| 297015|  2.99|       3|2019-12-13 08:43:00|2019|   12|\n",
      "|Bose SoundSport H...|355 Park St, Bost...|        Boston|   MA| 297237| 99.99|       1|2019-12-16 10:28:00|2019|   12|\n",
      "|    27in FHD Monitor|542 9th St, New Y...| New York City|   NY| 297376|149.99|       1|2019-12-03 11:38:00|2019|   12|\n",
      "|Lightning Chargin...|708 Walnut St, Ne...| New York City|   NY| 297438| 14.95|       1|2019-12-17 13:13:00|2019|   12|\n",
      "|AAA Batteries (4-...|538 Hickory St, S...| San Francisco|   CA| 297541|  2.99|       1|2019-12-20 10:24:00|2019|   12|\n",
      "|    Wired Headphones|199 8th St, San F...| San Francisco|   CA| 297635| 11.99|       1|2019-12-06 09:50:00|2019|   12|\n",
      "|USB-C Charging Cable|421 Johnson St, S...| San Francisco|   CA| 297715| 11.95|       1|2019-12-31 14:29:00|2019|   12|\n",
      "|Lightning Chargin...|634 10th St, San ...| San Francisco|   CA| 297842| 14.95|       1|2019-12-17 16:36:00|2019|   12|\n",
      "|       Flatscreen TV|407 5th St, Dalla...|        Dallas|   TX| 298034| 300.0|       1|2019-12-25 10:10:00|2019|   12|\n",
      "|    Wired Headphones|854 Cedar St, Los...|   Los Angeles|   CA| 298348| 11.99|       1|2019-12-01 14:46:00|2019|   12|\n",
      "|Lightning Chargin...|974 Maple St, New...| New York City|   NY| 298442| 14.95|       2|2019-12-18 11:10:00|2019|   12|\n",
      "|AA Batteries (4-p...|58 Dogwood St, Bo...|        Boston|   MA| 298493|  3.84|       1|2019-12-25 00:29:00|2019|   12|\n",
      "|    Wired Headphones|428 South St, Los...|   Los Angeles|   CA| 298580| 11.99|       1|2019-12-08 08:00:00|2019|   12|\n",
      "|AAA Batteries (4-...|592 Church St, Lo...|   Los Angeles|   CA| 298726|  2.99|       2|2019-12-04 13:21:00|2019|   12|\n",
      "|AAA Batteries (4-...|213 1st St, Bosto...|        Boston|   MA| 298943|  2.99|       1|2019-12-02 11:44:00|2019|   12|\n",
      "|    27in FHD Monitor|722 Lakeview St, ...| San Francisco|   CA| 299788|149.99|       1|2019-12-05 17:12:00|2019|   12|\n",
      "+--------------------+--------------------+--------------+-----+-------+------+--------+-------------------+----+-----+\n",
      "only showing top 20 rows\n",
      "\n"
     ]
    }
   ],
   "source": [
    "new_df.show()"
   ]
  },
  {
   "cell_type": "markdown",
   "id": "ddbcc515-e092-4fd3-81e1-f411326050a9",
   "metadata": {},
   "source": [
    "# LOADING THE DATA"
   ]
  },
  {
   "cell_type": "markdown",
   "id": "3d12a6fd-48e5-49dd-9cb6-dcb90cb374a4",
   "metadata": {},
   "source": [
    "### Writing the final dataframe to json"
   ]
  },
  {
   "cell_type": "code",
   "execution_count": 29,
   "id": "148f0b08-e3af-4c66-82b8-e743f6e06a23",
   "metadata": {},
   "outputs": [
    {
     "name": "stderr",
     "output_type": "stream",
     "text": [
      "                                                                                \r"
     ]
    }
   ],
   "source": [
    "final_df=new_df.select(\"orderid\",\"product\",\"quantity\",\"price\",\"orderdate\",\"storeaddress\",\"city\",\"state\",\"year\",\"month\")\n",
    "dfpath = './data/output1/sales'\n",
    "final_df.write.format(\"json\").mode(\"overwrite\").partitionBy(\"year\", \"month\").save(dfpath)"
   ]
  },
  {
   "cell_type": "code",
   "execution_count": null,
   "id": "5ac4c83c-f349-44f9-9943-51343681afc9",
   "metadata": {},
   "outputs": [],
   "source": []
  }
 ],
 "metadata": {
  "kernelspec": {
   "display_name": "Python 3 (ipykernel)",
   "language": "python",
   "name": "python3"
  },
  "language_info": {
   "codemirror_mode": {
    "name": "ipython",
    "version": 3
   },
   "file_extension": ".py",
   "mimetype": "text/x-python",
   "name": "python",
   "nbconvert_exporter": "python",
   "pygments_lexer": "ipython3",
   "version": "3.9.1"
  }
 },
 "nbformat": 4,
 "nbformat_minor": 5
}
